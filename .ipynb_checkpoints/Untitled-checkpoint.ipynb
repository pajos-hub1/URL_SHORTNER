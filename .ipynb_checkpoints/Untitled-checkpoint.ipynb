{
 "cells": [
  {
   "cell_type": "code",
   "execution_count": 1,
   "id": "5a4c03fd-1410-44e4-889d-69d5de703925",
   "metadata": {},
   "outputs": [],
   "source": [
    "import requests \n",
    "import random "
   ]
  },
  {
   "cell_type": "code",
   "execution_count": 11,
   "id": "35ae1c37-62cb-4f51-bca4-a0f053148560",
   "metadata": {},
   "outputs": [
    {
     "name": "stdin",
     "output_type": "stream",
     "text": [
      "Enter your url: https://femtechtraining.com/our-courses/\n"
     ]
    },
    {
     "data": {
      "text/html": [
       "Short Url: <a href = 'mAp7zQ' target = '_blank'>mAp7zQ</a>"
      ],
      "text/plain": [
       "<IPython.core.display.HTML object>"
      ]
     },
     "metadata": {},
     "output_type": "display_data"
    }
   ],
   "source": [
    "import string\n",
    "from IPython.display import display, HTML  \n",
    "url_db = P{}\n",
    "def generate():\n",
    "    char = string.ascii_letters + string.digits\n",
    "    short = ''\n",
    "    for i in range(6):\n",
    "        short += ''.join(random.choice(char))\n",
    "    return short\n",
    "def add(url):\n",
    "    short_url = generate()\n",
    "    return short_url\n",
    "\n",
    "\n",
    "link = input('Enter your url:')\n",
    "ss = add(link)\n",
    "ss_link = f\"<a href = '{ss}' target = '_blank'>{ss}</a>\"\n",
    "display(HTML(f'Short Url: {ss_link}'))"
   ]
  },
  {
   "cell_type": "code",
   "execution_count": null,
   "id": "72508670-fad7-430b-a5a6-76ca2bd2d32c",
   "metadata": {},
   "outputs": [],
   "source": []
  }
 ],
 "metadata": {
  "kernelspec": {
   "display_name": "Python 3 (ipykernel)",
   "language": "python",
   "name": "python3"
  },
  "language_info": {
   "codemirror_mode": {
    "name": "ipython",
    "version": 3
   },
   "file_extension": ".py",
   "mimetype": "text/x-python",
   "name": "python",
   "nbconvert_exporter": "python",
   "pygments_lexer": "ipython3",
   "version": "3.12.4"
  }
 },
 "nbformat": 4,
 "nbformat_minor": 5
}
