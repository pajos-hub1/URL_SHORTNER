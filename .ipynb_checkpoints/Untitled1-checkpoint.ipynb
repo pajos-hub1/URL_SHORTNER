{
 "cells": [
  {
   "cell_type": "code",
   "execution_count": 2,
   "id": "ce36b5de-14c4-4f81-856c-8fc1dae641cb",
   "metadata": {},
   "outputs": [
    {
     "name": "stdin",
     "output_type": "stream",
     "text": [
      "Enter your url:  https://femtechtraining.com/our-courses/\n"
     ]
    },
    {
     "name": "stdout",
     "output_type": "stream",
     "text": [
      "Original URL: https://femtechtraining.com/our-courses/\n",
      "Short URL: k23CFS\n"
     ]
    },
    {
     "data": {
      "text/html": [
       "Short URL: <a href='https://femtechtraining.com/our-courses/' target='_blank'>k23CFS</a>"
      ],
      "text/plain": [
       "<IPython.core.display.HTML object>"
      ]
     },
     "metadata": {},
     "output_type": "display_data"
    },
    {
     "name": "stdout",
     "output_type": "stream",
     "text": [
      "Retrieved URL: https://femtechtraining.com/our-courses/\n"
     ]
    }
   ],
   "source": [
    "import string\n",
    "import random\n",
    "from datetime import datetime\n",
    "from IPython.display import display, HTML\n",
    "\n",
    "# Simulate the URL model with a dictionary\n",
    "url_db = {}\n",
    "\n",
    "def generate_short_url():\n",
    "    characters = string.ascii_letters + string.digits\n",
    "    short_url = ''.join(random.choice(characters) for _ in range(6))\n",
    "    return short_url\n",
    "\n",
    "def add_url(original_url):\n",
    "    short_url = generate_short_url()\n",
    "    while short_url in url_db:\n",
    "        short_url = generate_short_url()\n",
    "    url_db[short_url] = {\n",
    "        'original_url': original_url,\n",
    "        'created_at': datetime.now()\n",
    "    }\n",
    "    return short_url\n",
    "\n",
    "def get_original_url(short_url):\n",
    "    return url_db.get(short_url, {}).get('original_url')\n",
    "\n",
    "# Add a URL and get the shortened version\n",
    "original_url = input('Enter your url: ')\n",
    "short_url = add_url(original_url)\n",
    "print(f\"Original URL: {original_url}\")\n",
    "print(f\"Short URL: {short_url}\")\n",
    "\n",
    "# Display the short URL as a clickable link\n",
    "short_url_link = f\"<a href='{original_url}' target='_blank'>{short_url}</a>\"\n",
    "display(HTML(f\"Short URL: {short_url_link}\"))\n",
    "\n",
    "# # Retrieve the original URL using the short URL\n",
    "# retrieved_url = get_original_url(short_url)\n",
    "# print(f\"Retrieved URL: {retrieved_url}\")"
   ]
  },
  {
   "cell_type": "code",
   "execution_count": 6,
   "id": "48f1ecf0-08c5-44de-bfce-82b17194ee8d",
   "metadata": {},
   "outputs": [
    {
     "name": "stdin",
     "output_type": "stream",
     "text": [
      "Enter your URL:  https://femtechtraining.com/courses/data-science-2/\n"
     ]
    },
    {
     "name": "stdout",
     "output_type": "stream",
     "text": [
      "Original URL: https://femtechtraining.com/courses/data-science-2/\n",
      "Short URL: http//sho.url/vDReSG\n"
     ]
    },
    {
     "data": {
      "text/html": [
       "Short URL: <a href='https://femtechtraining.com/our-courses/' target='_blank'>http//sho.url/vDReSG</a>"
      ],
      "text/plain": [
       "<IPython.core.display.HTML object>"
      ]
     },
     "metadata": {},
     "output_type": "display_data"
    }
   ],
   "source": [
    "url_db = {}\n",
    "\n",
    "base_url = 'http//sho.url/'\n",
    "\n",
    "def generate_short_url():\n",
    "    characters = string.ascii_letters + string.digits\n",
    "    short = ''\n",
    "    for i in range(6):\n",
    "        short += random.choice(characters)\n",
    "    return short \n",
    "\n",
    "def add_url(original_url):\n",
    "    short_url = generate_short_url()\n",
    "    while short_url in url_db:\n",
    "        short_url = generate_short_url()\n",
    "    url_db[short_url] = original_url \n",
    "    return short_url \n",
    "\n",
    "\n",
    "link = input('Enter your URL: ')\n",
    "short_url = add_url(link)\n",
    "\n",
    "main_short = base_url + short_url \n",
    "\n",
    "print(f\"Original URL: {link}\")\n",
    "print(f\"Short URL: {main_short}\")\n",
    "\n",
    "short_url_link = f\"<a href='{original_url}' target='_blank'>{main_short}</a>\"\n",
    "display(HTML(f\"Short URL: {short_url_link}\"))"
   ]
  },
  {
   "cell_type": "code",
   "execution_count": null,
   "id": "16c70821-2261-4e43-89cc-c75601bf1347",
   "metadata": {},
   "outputs": [],
   "source": []
  }
 ],
 "metadata": {
  "kernelspec": {
   "display_name": "Python 3 (ipykernel)",
   "language": "python",
   "name": "python3"
  },
  "language_info": {
   "codemirror_mode": {
    "name": "ipython",
    "version": 3
   },
   "file_extension": ".py",
   "mimetype": "text/x-python",
   "name": "python",
   "nbconvert_exporter": "python",
   "pygments_lexer": "ipython3",
   "version": "3.12.4"
  }
 },
 "nbformat": 4,
 "nbformat_minor": 5
}
